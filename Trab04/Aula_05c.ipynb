{
 "cells": [
  {
   "cell_type": "markdown",
   "metadata": {
    "id": "ISCZwwGBDcXx"
   },
   "source": [
    "Este notebook analisa a aplicação de uma Rede Neural (Multi-layer Perceptron) a um problema de previsão de séries temporais\n",
    "\n",
    "Referência:\n",
    "https://machinelearningmastery.com/how-to-develop-multilayer-perceptron-models-for-time-series-forecasting/\n"
   ]
  },
  {
   "cell_type": "markdown",
   "metadata": {
    "id": "XIzrcobgDy9W"
   },
   "source": [
    "## Preparação dos Dados\n",
    "\n",
    "Um primeiro passo importante para o uso de redes neurais, ou mesmo outros modelos de aprendizado de máquina em prolemas de previsão de séries temporais é a preparação dos dados. A sequência de valores de uma série deve ser remodelado para ser representada como uma base de dados de um modelo de aprendizado supervisionado.\n",
    "\n",
    "Ou seja, dada a sequência:\n",
    "\n",
    "\n",
    "\n",
    "```\n",
    "[10, 20, 30, 40, 50, 60, 70, 80, 90]\n",
    "```\n",
    "\n",
    "Temos que representá-la em função de entradas (x) e saídas (y). Mais especificamente, temos a cada amostra em x os valores dos lags e em y os valores futuros. Portanto, a sequência acima para um problema de previsão que utiliza 3 lags pode ser representada como:\n",
    "\n",
    "\n",
    "\n",
    "```\n",
    "X,\t\t\t\ty\n",
    "10, 20, 30\t\t40\n",
    "20, 30, 40\t\t50\n",
    "30, 40, 50\t\t60\n",
    "...\n",
    "```\n",
    "\n",
    "Essa conversão pode ser realizada pelo método descrito a seguir, que utiliza o valor de n_lags para definir o número de atributos em x"
   ]
  },
  {
   "cell_type": "code",
   "execution_count": 1,
   "metadata": {
    "id": "EV2pyLJ2DVdG"
   },
   "outputs": [],
   "source": [
    "from numpy import array\n",
    "\n",
    "def split_sequence(sequence, n_lags):\n",
    " X, y = list(), list()\n",
    " for i in range(len(sequence)):\n",
    "\n",
    "  end_ix = i + n_lags\n",
    "  # Testa se a sequência chegou ao fim\n",
    "  if end_ix > len(sequence)-1:\n",
    "    break\n",
    "  # cria os trechos x e y de cada amostra\n",
    "  seq_x, seq_y = sequence[i:end_ix], sequence[end_ix]\n",
    "  X.append(seq_x)\n",
    "  y.append(seq_y)\n",
    " return array(X), array(y)"
   ]
  },
  {
   "cell_type": "markdown",
   "metadata": {
    "id": "F16amNV3GXc6"
   },
   "source": [
    "Aplicando o método à sequencia definida anteriormente."
   ]
  },
  {
   "cell_type": "code",
   "execution_count": 2,
   "metadata": {
    "colab": {
     "base_uri": "https://localhost:8080/"
    },
    "id": "pe8emGX2Gcq9",
    "outputId": "a2c1bf9f-916a-4a17-868c-3094ace32a5c"
   },
   "outputs": [
    {
     "name": "stdout",
     "output_type": "stream",
     "text": [
      "[10 20 30] 40\n",
      "[20 30 40] 50\n",
      "[30 40 50] 60\n",
      "[40 50 60] 70\n",
      "[50 60 70] 80\n",
      "[60 70 80] 90\n"
     ]
    }
   ],
   "source": [
    "sequencia = [10, 20, 30, 40, 50, 60, 70, 80, 90]\n",
    "# número de lags\n",
    "n_lags = 3\n",
    "\n",
    "X, y = split_sequence(sequencia, n_lags)\n",
    "\n",
    "for i in range(len(X)):\n",
    "\tprint(X[i], y[i])"
   ]
  },
  {
   "cell_type": "markdown",
   "metadata": {
    "id": "37qDNTtgHZPw"
   },
   "source": [
    "## O Modelo MLP\n",
    "\n",
    "Um primeiro passo é a definição de seua arquitetura, em termos de número de camadas, neurônios e tipos de função de ativação.\n",
    "\n",
    "O exemplo a seguir utiliza a biblioteca Keras, que define tal arquitetura MLP de maneira sequencial, a partir da inclusão das camadas no modelo."
   ]
  },
  {
   "cell_type": "code",
   "execution_count": 3,
   "metadata": {
    "id": "s4GVcrP-H9po"
   },
   "outputs": [
    {
     "ename": "ModuleNotFoundError",
     "evalue": "No module named 'keras'",
     "output_type": "error",
     "traceback": [
      "\u001b[1;31m---------------------------------------------------------------------------\u001b[0m",
      "\u001b[1;31mModuleNotFoundError\u001b[0m                       Traceback (most recent call last)",
      "Cell \u001b[1;32mIn[3], line 1\u001b[0m\n\u001b[1;32m----> 1\u001b[0m \u001b[38;5;28;01mfrom\u001b[39;00m \u001b[38;5;21;01mkeras\u001b[39;00m\u001b[38;5;21;01m.\u001b[39;00m\u001b[38;5;21;01mmodels\u001b[39;00m \u001b[38;5;28;01mimport\u001b[39;00m Sequential\n\u001b[0;32m      2\u001b[0m \u001b[38;5;28;01mfrom\u001b[39;00m \u001b[38;5;21;01mkeras\u001b[39;00m\u001b[38;5;21;01m.\u001b[39;00m\u001b[38;5;21;01mlayers\u001b[39;00m \u001b[38;5;28;01mimport\u001b[39;00m Dense\n\u001b[0;32m      4\u001b[0m model \u001b[38;5;241m=\u001b[39m Sequential()\n",
      "\u001b[1;31mModuleNotFoundError\u001b[0m: No module named 'keras'"
     ]
    }
   ],
   "source": [
    "from keras.models import Sequential\n",
    "from keras.layers import Dense\n",
    "\n",
    "model = Sequential()\n",
    "model.add(Dense(100, activation='relu', input_dim=n_lags))\n",
    "model.add(Dense(1))\n",
    "model.compile(optimizer='adam', loss='mse')"
   ]
  },
  {
   "cell_type": "markdown",
   "metadata": {
    "id": "NvTzQau4INoO"
   },
   "source": [
    "O modelo MLP definido acima apresenta uma camada inicial que recebe 3, possui 100 neurônios e como função de ativação a 'Relu'. A camada de saída possui apenas 1 neurônio, o que coincide com o formato de y, correspondente ao valor de previsão em t+1.\n",
    "\n",
    "A função compile é utilizada para fechar a definição do modelo, e configura também alguns métodos internos utilizados na estimativa dos parâmetros.\n",
    "\n",
    "Após definido, o modelo pode ser utilizado para treinamento com a função fit()."
   ]
  },
  {
   "cell_type": "code",
   "execution_count": null,
   "metadata": {
    "colab": {
     "base_uri": "https://localhost:8080/"
    },
    "id": "0axVibARJL8W",
    "outputId": "a1310e1f-c9e7-42a9-a9f0-c6080e4c8726"
   },
   "outputs": [
    {
     "data": {
      "text/plain": [
       "<keras.src.callbacks.History at 0x798c3c6466e0>"
      ]
     },
     "execution_count": 5,
     "metadata": {},
     "output_type": "execute_result"
    }
   ],
   "source": [
    "model.fit(X, y, epochs=2000, verbose=0)"
   ]
  },
  {
   "cell_type": "markdown",
   "metadata": {
    "id": "nyE1AUnbJJtw"
   },
   "source": [
    "O parâmetro epochs indica o número de iterações que serão realizadas na base inteira de x e y. Verbose, se diferente de zero, gera um histórico sobre a fase de treinamento do modelo."
   ]
  },
  {
   "cell_type": "markdown",
   "metadata": {
    "id": "UaaNhHWrKt-Q"
   },
   "source": [
    "Para finalizar o processo, é testada a seguir a função predict(). Neste caso, ela é utilizada para realizar a previsão de um valor futuro em y dados os valores de lags descritos no conjunto de atributos em x."
   ]
  },
  {
   "cell_type": "code",
   "execution_count": null,
   "metadata": {
    "colab": {
     "base_uri": "https://localhost:8080/"
    },
    "id": "U5K1IvcpHcXT",
    "outputId": "7f656467-8c40-45e8-86f0-62d59e5cadfc"
   },
   "outputs": [
    {
     "name": "stdout",
     "output_type": "stream",
     "text": [
      "[[101.565834]]\n"
     ]
    }
   ],
   "source": [
    "x_input = array([70, 80, 90])\n",
    "x_input = x_input.reshape((1, n_lags))\n",
    "yhat = model.predict(x_input, verbose=0)\n",
    "print(yhat)"
   ]
  },
  {
   "cell_type": "markdown",
   "metadata": {
    "id": "mgFBO6CjLP02"
   },
   "source": [
    "É importante observar que os valores de y são retornados pelo modelo a dentro de um array. Portanto, para efeito de alguma exibição gráfica ou aplicação a alguma métrica de desempenho, é importante observar tal formatação."
   ]
  }
 ],
 "metadata": {
  "colab": {
   "provenance": []
  },
  "kernelspec": {
   "display_name": "Python 3",
   "name": "python3"
  },
  "language_info": {
   "codemirror_mode": {
    "name": "ipython",
    "version": 3
   },
   "file_extension": ".py",
   "mimetype": "text/x-python",
   "name": "python",
   "nbconvert_exporter": "python",
   "pygments_lexer": "ipython3",
   "version": "3.12.8"
  }
 },
 "nbformat": 4,
 "nbformat_minor": 0
}
